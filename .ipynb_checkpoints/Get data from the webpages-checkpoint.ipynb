{
 "cells": [
  {
   "cell_type": "code",
   "execution_count": 4,
   "metadata": {
    "scrolled": true
   },
   "outputs": [
    {
     "name": "stdout",
     "output_type": "stream",
     "text": [
      "                       0          1                   2                     3  \\\n",
      "0              Call Date  Call Type              Street         Cross Streets   \n",
      "1   9/29/2017 5:41:14 AM    Medical           S 37TH ST      ALLEY/HEMLOCK ST   \n",
      "2   9/29/2017 5:41:14 AM    Medical           S 37TH ST      ALLEY/HEMLOCK ST   \n",
      "3   9/29/2017 5:31:57 AM    Medical             15TH ST   COMMERCIAL ST/ALLEY   \n",
      "4   9/29/2017 5:31:57 AM    Medical             15TH ST   COMMERCIAL ST/ALLEY   \n",
      "5   9/29/2017 5:12:01 AM    Medical      WEST JEWETT ST  EAST JEWETT ST/ALLEY   \n",
      "6   9/29/2017 5:12:01 AM    Medical      WEST JEWETT ST  EAST JEWETT ST/ALLEY   \n",
      "7   9/29/2017 4:53:12 AM    Medical  SANTA MARGARITA ST       54TH ST/55TH ST   \n",
      "8   9/29/2017 4:53:12 AM    Medical  SANTA MARGARITA ST       54TH ST/55TH ST   \n",
      "9   9/29/2017 4:48:20 AM    Medical      PADUA HILLS PL   PRIVATE RD/Dead End   \n",
      "10  9/29/2017 4:48:20 AM    Medical      PADUA HILLS PL   PRIVATE RD/Dead End   \n",
      "\n",
      "       4  \n",
      "0   Unit  \n",
      "1    E19  \n",
      "2    M28  \n",
      "3     E7  \n",
      "4    M11  \n",
      "5    E23  \n",
      "6    M20  \n",
      "7    E12  \n",
      "8    M12  \n",
      "9    E29  \n",
      "10   M29  \n"
     ]
    }
   ],
   "source": [
    "import pandas as pd\n",
    "\n",
    "\n",
    "# Pandas find the table and writes it as new DataFrame\n",
    "tables = pd.read_html(\"http://apps.sandiego.gov/sdfiredispatch/\")\n",
    "\n",
    "print(tables[0])"
   ]
  },
  {
   "cell_type": "code",
   "execution_count": 6,
   "metadata": {},
   "outputs": [
    {
     "name": "stdout",
     "output_type": "stream",
     "text": [
      "            Call Date Call Type              Street         Cross Streets Unit\n",
      "0 2017-09-29 05:41:14   Medical           S 37TH ST      ALLEY/HEMLOCK ST  E19\n",
      "1 2017-09-29 05:41:14   Medical           S 37TH ST      ALLEY/HEMLOCK ST  M28\n",
      "2 2017-09-29 05:31:57   Medical             15TH ST   COMMERCIAL ST/ALLEY   E7\n",
      "3 2017-09-29 05:31:57   Medical             15TH ST   COMMERCIAL ST/ALLEY  M11\n",
      "4 2017-09-29 05:12:01   Medical      WEST JEWETT ST  EAST JEWETT ST/ALLEY  E23\n",
      "5 2017-09-29 05:12:01   Medical      WEST JEWETT ST  EAST JEWETT ST/ALLEY  M20\n",
      "6 2017-09-29 04:53:12   Medical  SANTA MARGARITA ST       54TH ST/55TH ST  E12\n",
      "7 2017-09-29 04:53:12   Medical  SANTA MARGARITA ST       54TH ST/55TH ST  M12\n",
      "8 2017-09-29 04:48:20   Medical      PADUA HILLS PL   PRIVATE RD/Dead End  E29\n",
      "9 2017-09-29 04:48:20   Medical      PADUA HILLS PL   PRIVATE RD/Dead End  M29\n"
     ]
    }
   ],
   "source": [
    "# Parse the DataFrame and set row 0 as a head\n",
    "# Additionally we convert text-based Call Date into time object\n",
    "calls_df, = pd.read_html(\"http://apps.sandiego.gov/sdfiredispatch/\", header = 0, parse_dates=[\"Call Date\"])\n",
    "\n",
    "print(calls_df)"
   ]
  },
  {
   "cell_type": "markdown",
   "metadata": {},
   "source": [
    "## Convert data to JSON"
   ]
  },
  {
   "cell_type": "code",
   "execution_count": 9,
   "metadata": {},
   "outputs": [
    {
     "name": "stdout",
     "output_type": "stream",
     "text": [
      "[{\"Call Date\":\"2017-09-29T05:41:14.000Z\",\"Call Type\":\"Medical\",\"Street\":\"S 37TH ST\",\"Cross Streets\":\"ALLEY\\/HEMLOCK ST\",\"Unit\":\"E19\"},{\"Call Date\":\"2017-09-29T05:41:14.000Z\",\"Call Type\":\"Medical\",\"Street\":\"S 37TH ST\",\"Cross Streets\":\"ALLEY\\/HEMLOCK ST\",\"Unit\":\"M28\"},{\"Call Date\":\"2017-09-29T05:31:57.000Z\",\"Call Type\":\"Medical\",\"Street\":\"15TH ST\",\"Cross Streets\":\"COMMERCIAL ST\\/ALLEY\",\"Unit\":\"E7\"},{\"Call Date\":\"2017-09-29T05:31:57.000Z\",\"Call Type\":\"Medical\",\"Street\":\"15TH ST\",\"Cross Streets\":\"COMMERCIAL ST\\/ALLEY\",\"Unit\":\"M11\"},{\"Call Date\":\"2017-09-29T05:12:01.000Z\",\"Call Type\":\"Medical\",\"Street\":\"WEST JEWETT ST\",\"Cross Streets\":\"EAST JEWETT ST\\/ALLEY\",\"Unit\":\"E23\"},{\"Call Date\":\"2017-09-29T05:12:01.000Z\",\"Call Type\":\"Medical\",\"Street\":\"WEST JEWETT ST\",\"Cross Streets\":\"EAST JEWETT ST\\/ALLEY\",\"Unit\":\"M20\"},{\"Call Date\":\"2017-09-29T04:53:12.000Z\",\"Call Type\":\"Medical\",\"Street\":\"SANTA MARGARITA ST\",\"Cross Streets\":\"54TH ST\\/55TH ST\",\"Unit\":\"E12\"},{\"Call Date\":\"2017-09-29T04:53:12.000Z\",\"Call Type\":\"Medical\",\"Street\":\"SANTA MARGARITA ST\",\"Cross Streets\":\"54TH ST\\/55TH ST\",\"Unit\":\"M12\"},{\"Call Date\":\"2017-09-29T04:48:20.000Z\",\"Call Type\":\"Medical\",\"Street\":\"PADUA HILLS PL\",\"Cross Streets\":\"PRIVATE RD\\/Dead End\",\"Unit\":\"E29\"},{\"Call Date\":\"2017-09-29T04:48:20.000Z\",\"Call Type\":\"Medical\",\"Street\":\"PADUA HILLS PL\",\"Cross Streets\":\"PRIVATE RD\\/Dead End\",\"Unit\":\"M29\"}]\n"
     ]
    }
   ],
   "source": [
    "# So we have our call_df\n",
    "print(calls_df.to_json(orient=\"records\", date_format=\"iso\"))"
   ]
  },
  {
   "cell_type": "markdown",
   "metadata": {},
   "source": [
    "## Convert to CSV / XLS"
   ]
  },
  {
   "cell_type": "code",
   "execution_count": 12,
   "metadata": {},
   "outputs": [],
   "source": [
    "# Save our calls to CSV\n",
    "calls_df.to_csv(\"calls.csv\", index=False)\n",
    "\n",
    "\n",
    "# Save our calls to XLS\n",
    "calls_df.to_excel(\"calls.xls\", index=False)"
   ]
  },
  {
   "cell_type": "markdown",
   "metadata": {},
   "source": [
    "## Play more with Pandas"
   ]
  },
  {
   "cell_type": "code",
   "execution_count": 13,
   "metadata": {},
   "outputs": [
    {
     "data": {
      "text/html": [
       "<div>\n",
       "<style>\n",
       "    .dataframe thead tr:only-child th {\n",
       "        text-align: right;\n",
       "    }\n",
       "\n",
       "    .dataframe thead th {\n",
       "        text-align: left;\n",
       "    }\n",
       "\n",
       "    .dataframe tbody tr th {\n",
       "        vertical-align: top;\n",
       "    }\n",
       "</style>\n",
       "<table border=\"1\" class=\"dataframe\">\n",
       "  <thead>\n",
       "    <tr style=\"text-align: right;\">\n",
       "      <th></th>\n",
       "      <th>Call Date</th>\n",
       "      <th>Call Type</th>\n",
       "      <th>Street</th>\n",
       "      <th>Cross Streets</th>\n",
       "      <th>Unit</th>\n",
       "    </tr>\n",
       "  </thead>\n",
       "  <tbody>\n",
       "    <tr>\n",
       "      <th>count</th>\n",
       "      <td>10</td>\n",
       "      <td>10</td>\n",
       "      <td>10</td>\n",
       "      <td>10</td>\n",
       "      <td>10</td>\n",
       "    </tr>\n",
       "    <tr>\n",
       "      <th>unique</th>\n",
       "      <td>5</td>\n",
       "      <td>1</td>\n",
       "      <td>5</td>\n",
       "      <td>5</td>\n",
       "      <td>10</td>\n",
       "    </tr>\n",
       "    <tr>\n",
       "      <th>top</th>\n",
       "      <td>2017-09-29 05:31:57</td>\n",
       "      <td>Medical</td>\n",
       "      <td>WEST JEWETT ST</td>\n",
       "      <td>ALLEY/HEMLOCK ST</td>\n",
       "      <td>M11</td>\n",
       "    </tr>\n",
       "    <tr>\n",
       "      <th>freq</th>\n",
       "      <td>2</td>\n",
       "      <td>10</td>\n",
       "      <td>2</td>\n",
       "      <td>2</td>\n",
       "      <td>1</td>\n",
       "    </tr>\n",
       "    <tr>\n",
       "      <th>first</th>\n",
       "      <td>2017-09-29 04:48:20</td>\n",
       "      <td>NaN</td>\n",
       "      <td>NaN</td>\n",
       "      <td>NaN</td>\n",
       "      <td>NaN</td>\n",
       "    </tr>\n",
       "    <tr>\n",
       "      <th>last</th>\n",
       "      <td>2017-09-29 05:41:14</td>\n",
       "      <td>NaN</td>\n",
       "      <td>NaN</td>\n",
       "      <td>NaN</td>\n",
       "      <td>NaN</td>\n",
       "    </tr>\n",
       "  </tbody>\n",
       "</table>\n",
       "</div>"
      ],
      "text/plain": [
       "                  Call Date Call Type          Street     Cross Streets Unit\n",
       "count                    10        10              10                10   10\n",
       "unique                    5         1               5                 5   10\n",
       "top     2017-09-29 05:31:57   Medical  WEST JEWETT ST  ALLEY/HEMLOCK ST  M11\n",
       "freq                      2        10               2                 2    1\n",
       "first   2017-09-29 04:48:20       NaN             NaN               NaN  NaN\n",
       "last    2017-09-29 05:41:14       NaN             NaN               NaN  NaN"
      ]
     },
     "execution_count": 13,
     "metadata": {},
     "output_type": "execute_result"
    }
   ],
   "source": [
    "calls_df.describe()"
   ]
  },
  {
   "cell_type": "code",
   "execution_count": 16,
   "metadata": {},
   "outputs": [
    {
     "data": {
      "text/html": [
       "<div>\n",
       "<style>\n",
       "    .dataframe thead tr:only-child th {\n",
       "        text-align: right;\n",
       "    }\n",
       "\n",
       "    .dataframe thead th {\n",
       "        text-align: left;\n",
       "    }\n",
       "\n",
       "    .dataframe tbody tr th {\n",
       "        vertical-align: top;\n",
       "    }\n",
       "</style>\n",
       "<table border=\"1\" class=\"dataframe\">\n",
       "  <thead>\n",
       "    <tr style=\"text-align: right;\">\n",
       "      <th></th>\n",
       "      <th>Call Date</th>\n",
       "      <th>Street</th>\n",
       "      <th>Cross Streets</th>\n",
       "      <th>Unit</th>\n",
       "    </tr>\n",
       "    <tr>\n",
       "      <th>Call Type</th>\n",
       "      <th></th>\n",
       "      <th></th>\n",
       "      <th></th>\n",
       "      <th></th>\n",
       "    </tr>\n",
       "  </thead>\n",
       "  <tbody>\n",
       "    <tr>\n",
       "      <th>Medical</th>\n",
       "      <td>10</td>\n",
       "      <td>10</td>\n",
       "      <td>10</td>\n",
       "      <td>10</td>\n",
       "    </tr>\n",
       "  </tbody>\n",
       "</table>\n",
       "</div>"
      ],
      "text/plain": [
       "           Call Date  Street  Cross Streets  Unit\n",
       "Call Type                                        \n",
       "Medical           10      10             10    10"
      ]
     },
     "execution_count": 16,
     "metadata": {},
     "output_type": "execute_result"
    }
   ],
   "source": [
    "calls_df.groupby(\"Call Type\").count()"
   ]
  },
  {
   "cell_type": "code",
   "execution_count": 17,
   "metadata": {},
   "outputs": [
    {
     "data": {
      "text/plain": [
       "array(['E19', 'M28', 'E7', 'M11', 'E23', 'M20', 'E12', 'M12', 'E29', 'M29'], dtype=object)"
      ]
     },
     "execution_count": 17,
     "metadata": {},
     "output_type": "execute_result"
    }
   ],
   "source": [
    "calls_df[\"Unit\"].unique()"
   ]
  },
  {
   "cell_type": "code",
   "execution_count": null,
   "metadata": {
    "collapsed": true
   },
   "outputs": [],
   "source": []
  }
 ],
 "metadata": {
  "kernelspec": {
   "display_name": "Python 3",
   "language": "python",
   "name": "python3"
  },
  "language_info": {
   "codemirror_mode": {
    "name": "ipython",
    "version": 3
   },
   "file_extension": ".py",
   "mimetype": "text/x-python",
   "name": "python",
   "nbconvert_exporter": "python",
   "pygments_lexer": "ipython3",
   "version": "3.6.0"
  }
 },
 "nbformat": 4,
 "nbformat_minor": 2
}
